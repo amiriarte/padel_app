{
 "cells": [
  {
   "cell_type": "markdown",
   "metadata": {},
   "source": [
    "# Importar librerías"
   ]
  },
  {
   "cell_type": "code",
   "execution_count": null,
   "metadata": {},
   "outputs": [],
   "source": [
    "import numpy as np\n",
    "import pandas as pd"
   ]
  },
  {
   "cell_type": "markdown",
   "metadata": {},
   "source": [
    "# Leer datos"
   ]
  },
  {
   "cell_type": "code",
   "execution_count": 67,
   "metadata": {},
   "outputs": [],
   "source": [
    "df = pd.read_csv('Resultados.csv')\n",
    "\n",
    "date = df.values[:,0]\n",
    "j1 = df.values[:,1]\n",
    "j2 = df.values[:,2]\n",
    "j3 = df.values[:,3]\n",
    "j4 = df.values[:,4]\n",
    "\n",
    "set1 = df.values[:,5:7]\n",
    "set2 = df.values[:,7:9]\n",
    "set3 = df.values[:,9:11]"
   ]
  },
  {
   "cell_type": "markdown",
   "metadata": {},
   "source": [
    "# Procesar información"
   ]
  },
  {
   "cell_type": "code",
   "execution_count": 68,
   "metadata": {},
   "outputs": [],
   "source": [
    "players = ['Ale', 'Alan', 'Lucho', 'Rodrigo', 'Pato', 'Diego', 'Seba T.', 'Matias', 'Seba G.']\n",
    "\n",
    "score_default = []\n",
    "for player in players:\n",
    "    score_default = np.append(score_default,5000)"
   ]
  },
  {
   "cell_type": "markdown",
   "metadata": {},
   "source": [
    "# Cálculo de puntaje base"
   ]
  },
  {
   "cell_type": "code",
   "execution_count": 69,
   "metadata": {},
   "outputs": [],
   "source": [
    "pt_p1 = np.zeros(set1.shape[0])\n",
    "pt_p2 = np.zeros(set1.shape[0])\n",
    "\n",
    "for i in range(set1.shape[0]):\n",
    "    \n",
    "    sets_p1 = 0\n",
    "    sets_p2 = 0\n",
    "    \n",
    "    #Determinar ganador, si hubo\n",
    "    if set1[i,0] != set1[i,1]:\n",
    "        if set1[i,0] >= 6 or set1[i,1] >= 6:\n",
    "            if set1[i,0] > set1[i,1]:\n",
    "                sets_p1 = sets_p1 + 1\n",
    "                sets_p2 = sets_p2 + 0\n",
    "            elif set1[i,0] < set1[i,1]:\n",
    "                sets_p1 = 0\n",
    "                sets_p2 = 1\n",
    "                \n",
    "    if set2[i,0] != set2[i,1]:        \n",
    "        if set2[i,0] >= 6 or set2[i,1] >= 6:\n",
    "            if set2[i,0] > set2[i,1]:\n",
    "                sets_p1 = sets_p1 + 1\n",
    "                sets_p2 = sets_p2 + 0\n",
    "            elif set2[i,0] < set2[i,1]:\n",
    "                sets_p1 = sets_p1 + 0\n",
    "                sets_p2 = sets_p2 + 1\n",
    "                \n",
    "    if set3[i,0] != set3[i,1]:         \n",
    "        if set3[i,0] >= 6 or set3[i,1] >= 6:\n",
    "            if set3[i,0] > set3[i,1]:\n",
    "                sets_p1 = sets_p1 + 1\n",
    "                sets_p2 = sets_p2 + 0\n",
    "            elif set3[i,0] < set3[i,1]:\n",
    "                sets_p1 = sets_p1 + 0\n",
    "                sets_p2 = sets_p2 + 1\n",
    "\n",
    "    #Asigmar puntos por partido ganado\n",
    "    if sets_p1 > sets_p2:\n",
    "        w_p1 = 50\n",
    "        w_p2 = 0\n",
    "    elif sets_p1 < sets_p2:\n",
    "        w_p1 = 0\n",
    "        w_p2 = 50\n",
    "    else:\n",
    "        w_p1 = 0\n",
    "        w_p2 = 0\n",
    "\n",
    "    #Calcular puntaje base (partido, sets, games)\n",
    "    pt_p1[i] = w_p1 + sets_p1*20 + (set1[i,0] + set2[i,0] + set3[i,0])*5\n",
    "    pt_p2[i] = w_p2 + sets_p2*20 + (set1[i,1] + set2[i,1] + set3[i,1])*5\n",
    "        "
   ]
  },
  {
   "cell_type": "markdown",
   "metadata": {},
   "source": [
    "# Calcular ranking y aplicar handicap"
   ]
  },
  {
   "cell_type": "code",
   "execution_count": 77,
   "metadata": {},
   "outputs": [],
   "source": [
    "score = score_default.copy()\n",
    "score = np.array(score)\n",
    "ranking = np.zeros((pt_p1.shape[0],score.shape[0]))\n",
    "\n",
    "for i in range(pt_p1.shape[0]):\n",
    "    #Índices de jugadores\n",
    "    idx_j1 = [j for j in range(len(players)) if players[j] == j1[i]]\n",
    "    idx_j2 = [j for j in range(len(players)) if players[j] == j2[i]]\n",
    "    idx_j3 = [j for j in range(len(players)) if players[j] == j3[i]]\n",
    "    idx_j4 = [j for j in range(len(players)) if players[j] == j4[i]]\n",
    "    \n",
    "    #Handicap\n",
    "    hcp_p1 = (score[idx_j3] + score[idx_j4]) / (score[idx_j1] + score[idx_j2])\n",
    "    hcp_p2 = (score[idx_j1] + score[idx_j2]) / (score[idx_j3] + score[idx_j4])\n",
    "    \n",
    "    #Cálculo puntos por partido\n",
    "    score[idx_j1] = score[idx_j1] + pt_p1[i]*hcp_p1 - pt_p2[i]*hcp_p2\n",
    "    score[idx_j2] = score[idx_j2] + pt_p1[i]*hcp_p1 - pt_p2[i]*hcp_p2\n",
    "    score[idx_j3] = score[idx_j3] - pt_p1[i]*hcp_p1 + pt_p2[i]*hcp_p2\n",
    "    score[idx_j4] = score[idx_j4] - pt_p1[i]*hcp_p1 + pt_p2[i]*hcp_p2\n",
    "    \n",
    "    #Escribir ranking\n",
    "    ranking[i,:] = np.rint(score)"
   ]
  },
  {
   "cell_type": "code",
   "execution_count": 78,
   "metadata": {},
   "outputs": [
    {
     "name": "stdout",
     "output_type": "stream",
     "text": [
      "[[4995. 5005. 4995. 5005. 5000. 5000. 5000. 5000. 5000.]\n",
      " [5005. 4995. 4995. 4995. 5000. 5000. 5010. 5000. 5000.]\n",
      " [5125. 4875. 4875. 4995. 5000. 5000. 5130. 5000. 5000.]\n",
      " [5242. 4758. 4993. 4877. 5000. 5000. 5130. 5000. 5000.]\n",
      " [5312. 4688. 5063. 4808. 5000. 5000. 5130. 5000. 5000.]\n",
      " [5312. 4555. 5195. 4675. 5000. 5000. 5262. 5000. 5000.]\n",
      " [5151. 4716. 5357. 4514. 5000. 5000. 5262. 5000. 5000.]\n",
      " [5293. 4575. 5215. 4514. 5000. 5000. 5404. 5000. 5000.]\n",
      " [5422. 4704. 5086. 4514. 5000. 5000. 5275. 5000. 5000.]\n",
      " [5258. 4867. 5250. 4350. 5000. 5000. 5275. 5000. 5000.]\n",
      " [5122. 5003. 5114. 4486. 5000. 5000. 5275. 5000. 5000.]\n",
      " [5017. 5108. 5009. 4590. 5000. 5000. 5275. 5000. 5000.]\n",
      " [5164. 4961. 5156. 4444. 5000. 5000. 5275. 5000. 5000.]\n",
      " [5011. 5114. 5309. 4290. 5000. 5000. 5275. 5000. 5000.]\n",
      " [4913. 5212. 5211. 4290. 5000. 5000. 5374. 5000. 5000.]\n",
      " [5011. 5114. 5211. 4290. 5000. 4902. 5472. 5000. 5000.]\n",
      " [4903. 5223. 5102. 4290. 5000. 4902. 5580. 5000. 5000.]\n",
      " [5051. 5074. 5251. 4290. 5000. 4754. 5580. 5000. 5000.]\n",
      " [5051. 5197. 5127. 4414. 5000. 4754. 5457. 5000. 5000.]\n",
      " [5043. 5205. 5135. 4414. 5000. 4754. 5449. 5000. 5000.]\n",
      " [5099. 5149. 5191. 4358. 5000. 4754. 5449. 5000. 5000.]\n",
      " [5251. 4998. 5343. 4206. 5000. 4754. 5449. 5000. 5000.]\n",
      " [5122. 5126. 5471. 4078. 5000. 4754. 5449. 5000. 5000.]\n",
      " [5122. 5223. 5374. 3981. 5000. 4851. 5449. 5000. 5000.]\n",
      " [5203. 5142. 5293. 3981. 5000. 4851. 5530. 5000. 5000.]\n",
      " [5084. 5261. 5174. 4100. 5000. 4851. 5530. 5000. 5000.]\n",
      " [5097. 5248. 5187. 4100. 5000. 4851. 5517. 5000. 5000.]\n",
      " [5157. 5188. 5247. 4040. 5000. 4851. 5517. 5000. 5000.]\n",
      " [5100. 5188. 5304. 4040. 5000. 4794. 5574. 5000. 5000.]\n",
      " [5159. 5129. 5304. 4040. 5000. 4735. 5632. 5000. 5000.]\n",
      " [5222. 5067. 5304. 4040. 5000. 4673. 5695. 5000. 5000.]\n",
      " [5333. 4956. 5304. 4040. 5000. 4562. 5806. 5000. 5000.]\n",
      " [5340. 4948. 5304. 4047. 5000. 4554. 5806. 5000. 5000.]\n",
      " [5411. 4878. 5374. 3977. 5000. 4554. 5806. 5000. 5000.]\n",
      " [5406. 4882. 5374. 3972. 5000. 4559. 5806. 5000. 5000.]\n",
      " [5385. 4904. 5352. 3994. 5000. 4559. 5806. 5000. 5000.]\n",
      " [5224. 5065. 5192. 3994. 5000. 4559. 5967. 5000. 5000.]\n",
      " [5330. 4958. 5192. 3888. 5000. 4559. 6073. 5000. 5000.]\n",
      " [5350. 4939. 5211. 3888. 5000. 4559. 6054. 5000. 5000.]\n",
      " [5276. 5013. 5211. 3814. 5000. 4633. 6054. 5000. 5000.]\n",
      " [5214. 5013. 5150. 3814. 5000. 4633. 6115. 5000. 5062.]\n",
      " [5214. 5166. 5150. 3661. 5000. 4785. 5963. 5000. 5062.]\n",
      " [5219. 5161. 5150. 3666. 4995. 4785. 5963. 5000. 5062.]\n",
      " [5325. 5055. 5256. 3666. 4889. 4785. 5963. 5000. 5062.]\n",
      " [5463. 5193. 5256. 3666. 4751. 4785. 5824. 5000. 5062.]\n",
      " [5580. 5193. 5256. 3666. 4868. 4785. 5708. 5000. 4945.]\n",
      " [5580. 5338. 5256. 3811. 4723. 4785. 5563. 5000. 4945.]\n",
      " [5716. 5202. 5120. 3947. 4723. 4785. 5563. 5000. 4945.]\n",
      " [5822. 5308. 5013. 3840. 4723. 4785. 5563. 5000. 4945.]\n",
      " [5698. 5433. 5137. 3716. 4723. 4785. 5563. 5000. 4945.]\n",
      " [5683. 5448. 5122. 3731. 4723. 4785. 5563. 5000. 4945.]\n",
      " [5597. 5534. 5037. 3731. 4723. 4785. 5648. 5000. 4945.]\n",
      " [5597. 5618. 4952. 3647. 4723. 4870. 5648. 5000. 4945.]\n",
      " [5446. 5770. 4801. 3647. 4723. 5021. 5648. 5000. 4945.]\n",
      " [5541. 5675. 4801. 3552. 4818. 5021. 5648. 5000. 4945.]\n",
      " [5527. 5689. 4787. 3566. 4818. 5021. 5648. 5000. 4945.]\n",
      " [5616. 5600. 4876. 3477. 4818. 5021. 5648. 5000. 4945.]\n",
      " [5532. 5683. 4959. 3477. 4818. 5021. 5564. 5000. 4945.]\n",
      " [5532. 5683. 5057. 3477. 4915. 5021. 5467. 5000. 4847.]\n",
      " [5532. 5642. 5099. 3435. 4915. 5021. 5509. 5000. 4847.]\n",
      " [5532. 5642. 5099. 3401. 4949. 4988. 5509. 5034. 4847.]\n",
      " [5532. 5791. 4949. 3401. 4949. 5137. 5359. 5034. 4847.]\n",
      " [5532. 5858. 4949. 3401. 4882. 5204. 5359. 4967. 4847.]\n",
      " [5422. 5968. 4949. 3511. 4772. 5204. 5359. 4967. 4847.]\n",
      " [5400. 5990. 4927. 3533. 4772. 5204. 5359. 4967. 4847.]\n",
      " [5400. 6041. 4927. 3533. 4721. 5256. 5359. 4915. 4847.]\n",
      " [5452. 5990. 4927. 3482. 4721. 5307. 5359. 4915. 4847.]\n",
      " [5506. 5990. 4927. 3482. 4667. 5361. 5359. 4861. 4847.]\n",
      " [5496. 6000. 4917. 3491. 4667. 5361. 5359. 4861. 4847.]\n",
      " [5496. 6068. 4850. 3491. 4667. 5429. 5291. 4861. 4847.]\n",
      " [5595. 5968. 4949. 3491. 4567. 5429. 5291. 4861. 4847.]\n",
      " [5595. 6016. 4902. 3444. 4567. 5476. 5291. 4861. 4847.]\n",
      " [5506. 6105. 4991. 3444. 4567. 5476. 5202. 4861. 4847.]\n",
      " [5585. 6025. 5070. 3444. 4488. 5476. 5202. 4861. 4847.]]\n"
     ]
    }
   ],
   "source": [
    "print(ranking)"
   ]
  },
  {
   "cell_type": "code",
   "execution_count": null,
   "metadata": {},
   "outputs": [],
   "source": []
  },
  {
   "cell_type": "code",
   "execution_count": null,
   "metadata": {},
   "outputs": [],
   "source": []
  },
  {
   "cell_type": "code",
   "execution_count": null,
   "metadata": {},
   "outputs": [],
   "source": []
  },
  {
   "cell_type": "code",
   "execution_count": null,
   "metadata": {},
   "outputs": [],
   "source": []
  },
  {
   "cell_type": "code",
   "execution_count": null,
   "metadata": {},
   "outputs": [],
   "source": []
  }
 ],
 "metadata": {
  "kernelspec": {
   "display_name": "Python 3",
   "language": "python",
   "name": "python3"
  },
  "language_info": {
   "codemirror_mode": {
    "name": "ipython",
    "version": 3
   },
   "file_extension": ".py",
   "mimetype": "text/x-python",
   "name": "python",
   "nbconvert_exporter": "python",
   "pygments_lexer": "ipython3",
   "version": "3.7.3"
  }
 },
 "nbformat": 4,
 "nbformat_minor": 2
}
