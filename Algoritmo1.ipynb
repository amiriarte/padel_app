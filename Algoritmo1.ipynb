{
 "cells": [
  {
   "cell_type": "markdown",
   "metadata": {},
   "source": [
    "# Importar librerías"
   ]
  },
  {
   "cell_type": "code",
   "execution_count": null,
   "metadata": {},
   "outputs": [],
   "source": [
    "import numpy as np\n",
    "import pandas as pd"
   ]
  },
  {
   "cell_type": "markdown",
   "metadata": {},
   "source": [
    "# Leer datos"
   ]
  },
  {
   "cell_type": "code",
   "execution_count": null,
   "metadata": {},
   "outputs": [],
   "source": [
    "df = pd.read_csv('Resultados.csv')\n",
    "\n",
    "date = df.values[:,0]\n",
    "j1 = df.values[:,1]\n",
    "j2 = df.values[:,2]\n",
    "j3 = df.values[:,3]\n",
    "j4 = df.values[:,4]\n",
    "\n",
    "set1 = df.values[:,5:7]\n",
    "set2 = df.values[:,7:9]\n",
    "set3 = df.values[:,9:11]"
   ]
  },
  {
   "cell_type": "markdown",
   "metadata": {},
   "source": [
    "# Procesar información"
   ]
  },
  {
   "cell_type": "code",
   "execution_count": null,
   "metadata": {},
   "outputs": [],
   "source": [
    "players = ['Ale', 'Alan', 'Lucho', 'Rodrigo', 'Pato', 'Diego', 'Seba T.', 'Matias', 'Seba G.']\n",
    "\n",
    "score_default = []\n",
    "for player in players:\n",
    "    score_default = np.append(score_default,5000)"
   ]
  },
  {
   "cell_type": "markdown",
   "metadata": {},
   "source": [
    "# Cálculo de puntaje base"
   ]
  },
  {
   "cell_type": "code",
   "execution_count": null,
   "metadata": {},
   "outputs": [],
   "source": [
    "pt_p1 = np.zeros(set1.shape[0])\n",
    "pt_p2 = np.zeros(set1.shape[0])\n",
    "\n",
    "for i in range(set1.shape[0]):\n",
    "    \n",
    "    sets_p1 = 0\n",
    "    sets_p2 = 0\n",
    "    \n",
    "    #Determinar ganador, si hubo\n",
    "    if set1[i,0] != set1[i,1]:\n",
    "        if set1[i,0] >= 6 or set1[i,1] >= 6:\n",
    "            if set1[i,0] > set1[i,1]:\n",
    "                sets_p1 = sets_p1 + 1\n",
    "                sets_p2 = sets_p2 + 0\n",
    "            elif set1[i,0] < set1[i,1]:\n",
    "                sets_p1 = 0\n",
    "                sets_p2 = 1\n",
    "                \n",
    "    if set2[i,0] != set2[i,1]:        \n",
    "        if set2[i,0] >= 6 or set2[i,1] >= 6:\n",
    "            if set2[i,0] > set2[i,1]:\n",
    "                sets_p1 = sets_p1 + 1\n",
    "                sets_p2 = sets_p2 + 0\n",
    "            elif set2[i,0] < set2[i,1]:\n",
    "                sets_p1 = sets_p1 + 0\n",
    "                sets_p2 = sets_p2 + 1\n",
    "                \n",
    "    if set3[i,0] != set3[i,1]:         \n",
    "        if set3[i,0] >= 6 or set3[i,1] >= 6:\n",
    "            if set3[i,0] > set3[i,1]:\n",
    "                sets_p1 = sets_p1 + 1\n",
    "                sets_p2 = sets_p2 + 0\n",
    "            elif set3[i,0] < set3[i,1]:\n",
    "                sets_p1 = sets_p1 + 0\n",
    "                sets_p2 = sets_p2 + 1\n",
    "\n",
    "    #Asigmar puntos por partido ganado\n",
    "    if sets_p1 > sets_p2:\n",
    "        w_p1 = 50\n",
    "        w_p2 = 0\n",
    "    elif sets_p1 < sets_p2:\n",
    "        w_p1 = 0\n",
    "        w_p2 = 50\n",
    "    else:\n",
    "        w_p1 = 0\n",
    "        w_p2 = 0\n",
    "    \n",
    "    #print(sets_p1,',',sets_p2)\n",
    "    \n",
    "    #Calcular puntaje base (partido, sets, games)\n",
    "    pt_p1[i] = w_p1 + sets_p1*20 + (set1[i,0] + set2[i,0] + set3[i,0])*5\n",
    "    pt_p2[i] = w_p2 + sets_p2*20 + (set1[i,1] + set2[i,1] + set3[i,1])*5\n",
    "        "
   ]
  },
  {
   "cell_type": "markdown",
   "metadata": {},
   "source": [
    "# Calcular ranking y aplicar handicap"
   ]
  },
  {
   "cell_type": "code",
   "execution_count": null,
   "metadata": {},
   "outputs": [],
   "source": [
    "score = score_default.copy()\n",
    "score = np.array(score)\n",
    "ranking = np.zeros((pt_p1.shape[0],score.shape[0]))\n",
    "\n",
    "for i in range(pt_p1.shape[0]):\n",
    "    #Índices de jugadores\n",
    "    idx_j1 = [j for j in range(len(players)) if players[j] == j1[i]]\n",
    "    idx_j2 = [j for j in range(len(players)) if players[j] == j2[i]]\n",
    "    idx_j3 = [j for j in range(len(players)) if players[j] == j3[i]]\n",
    "    idx_j4 = [j for j in range(len(players)) if players[j] == j4[i]]\n",
    "    \n",
    "    #Handicap\n",
    "    hcp_p1 = (score[idx_j3] + score[idx_j4]) / (score[idx_j1] + score[idx_j2])\n",
    "    hcp_p2 = (score[idx_j1] + score[idx_j2]) / (score[idx_j3] + score[idx_j4])\n",
    "    \n",
    "    #Cálculo puntos por partido\n",
    "    score[idx_j1] = score[idx_j1] + pt_p1[i]*hcp_p1 - pt_p2[i]*hcp_p2\n",
    "    score[idx_j2] = score[idx_j2] + pt_p1[i]*hcp_p1 - pt_p2[i]*hcp_p2\n",
    "    score[idx_j3] = score[idx_j3] - pt_p1[i]*hcp_p1 + pt_p2[i]*hcp_p2\n",
    "    score[idx_j4] = score[idx_j4] - pt_p1[i]*hcp_p1 + pt_p2[i]*hcp_p2\n",
    "    \n",
    "    #print(int(pt_p1[i]*hcp_p1 - pt_p2[i]*hcp_p2),',', int(- pt_p1[i]*hcp_p1 + pt_p2[i]*hcp_p2))\n",
    "    \n",
    "    #Escribir ranking\n",
    "    ranking[i,:] = np.rint(score)"
   ]
  },
  {
   "cell_type": "code",
   "execution_count": null,
   "metadata": {},
   "outputs": [],
   "source": [
    "print(ranking)"
   ]
  },
  {
   "cell_type": "code",
   "execution_count": null,
   "metadata": {},
   "outputs": [],
   "source": [
    "#Cuando hay empate en sets, los puntos que se generan dependen únicamente de la diferencia de games. Encontrar alternativa.\n",
    "#Asegurar que nunca pase que el que gane pierda puntos\n"
   ]
  },
  {
   "cell_type": "code",
   "execution_count": null,
   "metadata": {},
   "outputs": [],
   "source": []
  },
  {
   "cell_type": "code",
   "execution_count": null,
   "metadata": {},
   "outputs": [],
   "source": []
  },
  {
   "cell_type": "code",
   "execution_count": null,
   "metadata": {},
   "outputs": [],
   "source": []
  },
  {
   "cell_type": "code",
   "execution_count": null,
   "metadata": {},
   "outputs": [],
   "source": []
  }
 ],
 "metadata": {
  "kernelspec": {
   "display_name": "Python 3",
   "language": "python",
   "name": "python3"
  },
  "language_info": {
   "codemirror_mode": {
    "name": "ipython",
    "version": 3
   },
   "file_extension": ".py",
   "mimetype": "text/x-python",
   "name": "python",
   "nbconvert_exporter": "python",
   "pygments_lexer": "ipython3",
   "version": "3.7.3"
  }
 },
 "nbformat": 4,
 "nbformat_minor": 2
}
